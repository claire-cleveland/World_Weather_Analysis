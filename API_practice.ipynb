{
 "cells": [
  {
   "cell_type": "code",
   "execution_count": 18,
   "metadata": {},
   "outputs": [],
   "source": [
    "# Create a practice set of random latitude and longitude combinations.\n",
    "x = [25.12903645, 25.92017388, 26.62509167, -59.98969384, 37.30571269]\n",
    "y = [-67.59741259, 11.09532135, 74.84233102, -76.89176677, -61.13376282]\n",
    "coordinates = zip(x, y)"
   ]
  },
  {
   "cell_type": "code",
   "execution_count": 19,
   "metadata": {},
   "outputs": [
    {
     "name": "stdout",
     "output_type": "stream",
     "text": [
      "25.12903645 -67.59741259\n",
      "25.92017388 11.09532135\n",
      "26.62509167 74.84233102\n",
      "-59.98969384 -76.89176677\n",
      "37.30571269 -61.13376282\n"
     ]
    }
   ],
   "source": [
    "# Use the tuple() function to display the latitude and longitude combinations.\n",
    "for coordinate in coordinates:\n",
    "    print(coordinate[0], coordinate[1])"
   ]
  },
  {
   "cell_type": "code",
   "execution_count": 20,
   "metadata": {},
   "outputs": [
    {
     "name": "stdout",
     "output_type": "stream",
     "text": [
      "Requirement already satisfied: citipy in /Users/clairecleveland/opt/anaconda3/lib/python3.8/site-packages (0.0.5)\n",
      "Requirement already satisfied: kdtree>=0.12 in /Users/clairecleveland/opt/anaconda3/lib/python3.8/site-packages (from citipy) (0.16)\n",
      "Note: you may need to restart the kernel to use updated packages.\n"
     ]
    }
   ],
   "source": [
    "pip install citipy"
   ]
  },
  {
   "cell_type": "code",
   "execution_count": 21,
   "metadata": {},
   "outputs": [],
   "source": [
    "from citipy import citipy"
   ]
  },
  {
   "cell_type": "code",
   "execution_count": 22,
   "metadata": {},
   "outputs": [],
   "source": [
    "#import csv\n",
    "#import kdtree\n",
    "#import os\n",
    "\n",
    "\n",
    "#class City:\n",
    "    #'''\n",
    "    #City wraps up the info about a city, including its name, coordinates,\n",
    "    #and belonging country.\n",
    "    #'''\n",
    "    #def __init__(self, city_name, country_code):\n",
    "        #self.city_name = city_name\n",
    "        #self.country_code = country_code\n",
    "\n",
    "\n",
    "# load the city data up\n",
    "#_current_dir, _current_filename = os.path.split(__file__)\n",
    "#_world_cities_csv_path = os.path.join(_current_dir, 'worldcities.csv')\n",
    "#_world_cities_kdtree = kdtree.create(dimensions=2)\n",
    "#WORLD_CITIES_DICT = {}\n",
    "\n",
    "#with open(_world_cities_csv_path, 'r') as csv_file:\n",
    "    #cities = csv.reader(csv_file)\n",
    "\n",
    "    # discard the headers\n",
    "    #cities.__next__()\n",
    "\n",
    "    # populate geo points into kdtree\n",
    "    #for city in cities:\n",
    "        #city_coordinate_key = (float(city[2]), float(city[3]))\n",
    "        #_world_cities_kdtree.add(city_coordinate_key)\n",
    "        #c = City(city[1], city[0])\n",
    "        #WORLD_CITIES_DICT[city_coordinate_key] = c\n",
    "\n",
    "\n",
    "#def nearest_city(latitude, longitude):\n",
    "    #nearest_city_coordinate = _world_cities_kdtree.search_nn((latitude, longitude, ))\n",
    "    #return WORLD_CITIES_DICT[nearest_city_coordinate[0].data]"
   ]
  },
  {
   "cell_type": "code",
   "execution_count": 23,
   "metadata": {},
   "outputs": [],
   "source": [
    "# Use the tuple() function to display the latitude and longitude combinations.\n",
    "for coordinate in coordinates:\n",
    "    print(citipy.nearest_city(coordinate[0], coordinate[1]).city_name,\n",
    "          citipy.nearest_city(coordinate[0], coordinate[1]).country_code)"
   ]
  },
  {
   "cell_type": "code",
   "execution_count": null,
   "metadata": {},
   "outputs": [],
   "source": []
  }
 ],
 "metadata": {
  "kernelspec": {
   "display_name": "PythonData",
   "language": "python",
   "name": "pythondata"
  },
  "language_info": {
   "codemirror_mode": {
    "name": "ipython",
    "version": 3
   },
   "file_extension": ".py",
   "mimetype": "text/x-python",
   "name": "python",
   "nbconvert_exporter": "python",
   "pygments_lexer": "ipython3",
   "version": "3.8.8"
  }
 },
 "nbformat": 4,
 "nbformat_minor": 4
}
